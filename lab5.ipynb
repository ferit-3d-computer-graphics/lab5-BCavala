{
 "cells": [
  {
   "cell_type": "markdown",
   "id": "50c58383-feeb-44d0-a658-cde70e019e2e",
   "metadata": {},
   "source": [
    "# Lab 5: Textures and Materials in 3D \n",
    "\n",
    "---"
   ]
  },
  {
   "cell_type": "markdown",
   "id": "7ec51254-f64c-49d4-8bb5-22e30fec53d1",
   "metadata": {},
   "source": [
    "This lab focuses on the integration of texture and textual information into 3D scenes using K3D. Students will learn how to apply 2D images (bitmaps) as textures on 3D surfaces, enabling more realistic or informative visualizations. They will also explore how to embed text into scenes for annotation or labeling — both as flat 2D overlays and as extruded 3D objects. In addition, procedural approaches will be introduced to simulate surface variation and material properties, even without image-based textures.\n",
    "\n",
    "Through hands-on examples, students will develop an understanding of how visual appearance can be enhanced using textures and text, contributing to both the readability and realism of 3D visualizations. \n",
    "\n",
    "---\n",
    "\n",
    "**Learning Objectives**\n",
    "\n",
    "By the end of this lab, students will be able to:\n",
    "- Apply 2D bitmap textures to 3D objects in K3D.\n",
    "- Use text labels as visual annotations or scene elements.\n",
    "- Experiment with text rendering as both flat overlays and 3D geometries.\n",
    "- Understand how material appearance is affected by color, lighting, and texture mapping.\n",
    "\n",
    "---"
   ]
  },
  {
   "cell_type": "markdown",
   "id": "1a2595c2-fcf6-4774-834b-03b6f05f9b74",
   "metadata": {},
   "source": [
    "## Textures and Materials in 3D Graphics\n",
    "\n",
    "Textures are 2D images (bitmaps) that are mapped onto 3D geometry to simulate surface detail, patterns, or annotations. They replace or supplement simple color assignments by adding visual richness without increasing geometric complexity. Textures can be photographic, procedurally generated, or text-based.\n",
    "\n",
    "Material appearance refers to how objects interact with light — through color, reflectivity, texture, and transparency. In real-time 3D rendering, materials are often simplified but can include texture maps (for color, bump, or normal effects) to simulate realism.\n",
    "\n",
    "Text rendering in 3D graphics can be done in two ways:\n",
    "- 2D overlay text (text2d) which always faces the camera and behaves like a screen label.\n",
    "- 3D text geometry (text) which exists as part of the 3D scene and responds to perspective and transformation."
   ]
  },
  {
   "cell_type": "code",
   "execution_count": 7,
   "id": "3b3e426d-cc02-4b24-acbc-e80062a3ab98",
   "metadata": {},
   "outputs": [
    {
     "name": "stdout",
     "output_type": "stream",
     "text": [
      "Requirement already satisfied: k3d in c:\\users\\arija\\anaconda3\\lib\\site-packages (2.16.1)\n",
      "Requirement already satisfied: ipywidgets<9.0.0,>=7.0.0 in c:\\users\\arija\\anaconda3\\lib\\site-packages (from k3d) (8.1.5)\n",
      "Requirement already satisfied: msgpack in c:\\users\\arija\\anaconda3\\lib\\site-packages (from k3d) (1.0.3)\n",
      "Requirement already satisfied: numpy in c:\\users\\arija\\anaconda3\\lib\\site-packages (from k3d) (1.26.4)\n",
      "Requirement already satisfied: traitlets in c:\\users\\arija\\anaconda3\\lib\\site-packages (from k3d) (5.14.3)\n",
      "Requirement already satisfied: traittypes in c:\\users\\arija\\anaconda3\\lib\\site-packages (from k3d) (0.2.1)\n",
      "Requirement already satisfied: comm>=0.1.3 in c:\\users\\arija\\anaconda3\\lib\\site-packages (from ipywidgets<9.0.0,>=7.0.0->k3d) (0.2.1)\n",
      "Requirement already satisfied: ipython>=6.1.0 in c:\\users\\arija\\anaconda3\\lib\\site-packages (from ipywidgets<9.0.0,>=7.0.0->k3d) (8.27.0)\n",
      "Requirement already satisfied: widgetsnbextension~=4.0.12 in c:\\users\\arija\\anaconda3\\lib\\site-packages (from ipywidgets<9.0.0,>=7.0.0->k3d) (4.0.13)\n",
      "Requirement already satisfied: jupyterlab-widgets~=3.0.12 in c:\\users\\arija\\anaconda3\\lib\\site-packages (from ipywidgets<9.0.0,>=7.0.0->k3d) (3.0.13)\n",
      "Requirement already satisfied: decorator in c:\\users\\arija\\anaconda3\\lib\\site-packages (from ipython>=6.1.0->ipywidgets<9.0.0,>=7.0.0->k3d) (5.1.1)\n",
      "Requirement already satisfied: jedi>=0.16 in c:\\users\\arija\\anaconda3\\lib\\site-packages (from ipython>=6.1.0->ipywidgets<9.0.0,>=7.0.0->k3d) (0.19.1)\n",
      "Requirement already satisfied: matplotlib-inline in c:\\users\\arija\\anaconda3\\lib\\site-packages (from ipython>=6.1.0->ipywidgets<9.0.0,>=7.0.0->k3d) (0.1.6)\n",
      "Requirement already satisfied: prompt-toolkit<3.1.0,>=3.0.41 in c:\\users\\arija\\anaconda3\\lib\\site-packages (from ipython>=6.1.0->ipywidgets<9.0.0,>=7.0.0->k3d) (3.0.43)\n",
      "Requirement already satisfied: pygments>=2.4.0 in c:\\users\\arija\\anaconda3\\lib\\site-packages (from ipython>=6.1.0->ipywidgets<9.0.0,>=7.0.0->k3d) (2.15.1)\n",
      "Requirement already satisfied: stack-data in c:\\users\\arija\\anaconda3\\lib\\site-packages (from ipython>=6.1.0->ipywidgets<9.0.0,>=7.0.0->k3d) (0.2.0)\n",
      "Requirement already satisfied: colorama in c:\\users\\arija\\anaconda3\\lib\\site-packages (from ipython>=6.1.0->ipywidgets<9.0.0,>=7.0.0->k3d) (0.4.6)\n",
      "Requirement already satisfied: parso<0.9.0,>=0.8.3 in c:\\users\\arija\\anaconda3\\lib\\site-packages (from jedi>=0.16->ipython>=6.1.0->ipywidgets<9.0.0,>=7.0.0->k3d) (0.8.3)\n",
      "Requirement already satisfied: wcwidth in c:\\users\\arija\\anaconda3\\lib\\site-packages (from prompt-toolkit<3.1.0,>=3.0.41->ipython>=6.1.0->ipywidgets<9.0.0,>=7.0.0->k3d) (0.2.5)\n",
      "Requirement already satisfied: executing in c:\\users\\arija\\anaconda3\\lib\\site-packages (from stack-data->ipython>=6.1.0->ipywidgets<9.0.0,>=7.0.0->k3d) (0.8.3)\n",
      "Requirement already satisfied: asttokens in c:\\users\\arija\\anaconda3\\lib\\site-packages (from stack-data->ipython>=6.1.0->ipywidgets<9.0.0,>=7.0.0->k3d) (2.0.5)\n",
      "Requirement already satisfied: pure-eval in c:\\users\\arija\\anaconda3\\lib\\site-packages (from stack-data->ipython>=6.1.0->ipywidgets<9.0.0,>=7.0.0->k3d) (0.2.2)\n",
      "Requirement already satisfied: six in c:\\users\\arija\\anaconda3\\lib\\site-packages (from asttokens->stack-data->ipython>=6.1.0->ipywidgets<9.0.0,>=7.0.0->k3d) (1.16.0)\n"
     ]
    }
   ],
   "source": [
    "!pip install k3d"
   ]
  },
  {
   "cell_type": "markdown",
   "id": "c78614e4-6502-40c8-ad8f-7b5393f7ceba",
   "metadata": {},
   "source": [
    "---\n",
    "\n",
    "### Example 1: Add a 2D Text Label (Overlay)\n",
    "\n",
    "This places a fixed 2D label in the corner of the screen — great for titles or dynamic overlays."
   ]
  },
  {
   "cell_type": "code",
   "execution_count": 16,
   "id": "1f5b42b6-9937-4186-a29c-2ec8cd7a7192",
   "metadata": {},
   "outputs": [
    {
     "data": {
      "application/vnd.jupyter.widget-view+json": {
       "model_id": "83d493174a4844b993596acbd9235235",
       "version_major": 2,
       "version_minor": 0
      },
      "text/plain": [
       "Output()"
      ]
     },
     "metadata": {},
     "output_type": "display_data"
    }
   ],
   "source": [
    "import k3d\n",
    "\n",
    "plot = k3d.plot()\n",
    "label = k3d.text2d(\"Hello 3D World!\", position=[0.2, 0.65], size=1.5, color=0x00ff00)\n",
    "plot += label\n",
    "plot.display()"
   ]
  },
  {
   "cell_type": "markdown",
   "id": "13d75e6b-a198-4611-a9d8-7550b5697e6b",
   "metadata": {},
   "source": [
    "---\n",
    "\n",
    "### Example 2: Add a 3D Text Object into the Scene\n",
    "\n",
    "This creates a 3D object that behaves like any mesh — you can rotate, scale, and position it in 3D space."
   ]
  },
  {
   "cell_type": "code",
   "execution_count": 20,
   "id": "9269d7e2-0c2b-4437-b564-117a47ddeffd",
   "metadata": {},
   "outputs": [
    {
     "data": {
      "application/vnd.jupyter.widget-view+json": {
       "model_id": "7edce2834ffc482095f740ad7e9e6c18",
       "version_major": 2,
       "version_minor": 0
      },
      "text/plain": [
       "Output()"
      ]
     },
     "metadata": {},
     "output_type": "display_data"
    }
   ],
   "source": [
    "text = k3d.text(\"K3D TEXT\", position=[0, 0, 0], scale=1.0, color=0xff0000)\n",
    "plot = k3d.plot()\n",
    "plot += text\n",
    "plot.display()"
   ]
  },
  {
   "cell_type": "markdown",
   "id": "4a0758d8-74b9-4454-bd5d-9167cf621c6b",
   "metadata": {},
   "source": [
    "---\n",
    "\n",
    "### Example 3: Display a Colored Surface with Text Label\n",
    "\n",
    "Combines a surface mesh and a 3D text object to annotate geometry in the scene."
   ]
  },
  {
   "cell_type": "code",
   "execution_count": 25,
   "id": "bb1cd95a-4f1f-474f-a00e-101495e7713c",
   "metadata": {},
   "outputs": [
    {
     "data": {
      "application/vnd.jupyter.widget-view+json": {
       "model_id": "ba00a18b2913491599d55a62a6c7d8aa",
       "version_major": 2,
       "version_minor": 0
      },
      "text/plain": [
       "Output()"
      ]
     },
     "metadata": {},
     "output_type": "display_data"
    }
   ],
   "source": [
    "import numpy as np\n",
    "\n",
    "vertices = np.array([\n",
    "    [0, 0, 0],\n",
    "    [1, 0, 0],\n",
    "    [1, 1, 0],\n",
    "    [0, 1, 0]\n",
    "], dtype=np.float32)\n",
    "\n",
    "indices = np.array([[0, 1, 2], [0, 2, 3]], dtype=np.uint32)\n",
    "\n",
    "plot = k3d.plot()\n",
    "mesh = k3d.mesh(vertices, indices, color=0x3366ff)\n",
    "plot += mesh\n",
    "plot += k3d.text(\"Label on Surface\", position=[0.3, 0.3, 0.05], scale=0.3, color=0x000000)\n",
    "plot.display()"
   ]
  },
  {
   "cell_type": "markdown",
   "id": "27ff4c4f-13d7-43e4-b4e1-c1a766160483",
   "metadata": {},
   "source": [
    "---\n",
    "\n",
    "### Example 4: Apply Per-Vertex Color Gradient (Procedural Texture)\n",
    "\n",
    "Demonstrates procedural \"texture\" using vertex color mapping instead of image-based texturing.\n",
    "\n"
   ]
  },
  {
   "cell_type": "code",
   "execution_count": 28,
   "id": "7dfacb28-d0ec-439a-8e22-f79c4e12e5a2",
   "metadata": {},
   "outputs": [
    {
     "data": {
      "application/vnd.jupyter.widget-view+json": {
       "model_id": "c7f869baf1c2465c9b655b33679ab626",
       "version_major": 2,
       "version_minor": 0
      },
      "text/plain": [
       "Output()"
      ]
     },
     "metadata": {},
     "output_type": "display_data"
    }
   ],
   "source": [
    "x, y = np.meshgrid(np.linspace(0, 1, 20), np.linspace(0, 1, 20))\n",
    "z = np.sin(x * 6) * np.cos(y * 6)\n",
    "vertices = np.stack((x.ravel(), y.ravel(), z.ravel()), axis=1)\n",
    "\n",
    "indices = []\n",
    "res = x.shape[0]\n",
    "for i in range(res - 1):\n",
    "    for j in range(res - 1):\n",
    "        idx = i * res + j\n",
    "        indices.append([idx, idx + 1, idx + res])\n",
    "        indices.append([idx + 1, idx + res + 1, idx + res])\n",
    "indices = np.array(indices, dtype=np.uint32)\n",
    "\n",
    "# Color by height (Z)\n",
    "z_vals = z.ravel()\n",
    "norm_z = (z_vals - z_vals.min()) / z_vals.ptp()\n",
    "colors = (norm_z * 0xFFFFFF).astype(np.uint32)\n",
    "\n",
    "plot = k3d.plot()\n",
    "plot += k3d.mesh(vertices=vertices.astype(np.float32), indices=indices, colors=colors)\n",
    "plot.display()"
   ]
  },
  {
   "cell_type": "markdown",
   "id": "8313ee20-b5a2-4721-a014-7479a4388fa4",
   "metadata": {},
   "source": [
    "---\n",
    "\n",
    "### Example 5: Add Multiple 3D Text Labels to Objects\n",
    "\n",
    "Shows how 3D text can be dynamically positioned near points or regions of interest.\n",
    "\n"
   ]
  },
  {
   "cell_type": "code",
   "execution_count": 31,
   "id": "60db0029-7495-42e0-9b9b-d902b14674d6",
   "metadata": {},
   "outputs": [
    {
     "data": {
      "application/vnd.jupyter.widget-view+json": {
       "model_id": "e936519d46d54885958d66c0734fd1b9",
       "version_major": 2,
       "version_minor": 0
      },
      "text/plain": [
       "Output()"
      ]
     },
     "metadata": {},
     "output_type": "display_data"
    }
   ],
   "source": [
    "plot = k3d.plot()\n",
    "\n",
    "# Two spheres\n",
    "plot += k3d.points([[0, 0, 0]], point_size=0.2, color=0xff0000)\n",
    "plot += k3d.points([[1, 1, 0]], point_size=0.2, color=0x00ff00)\n",
    "\n",
    "# Add text labels\n",
    "plot += k3d.text(\"Origin\", position=[0, 0, 0.2], scale=0.2)\n",
    "plot += k3d.text(\"Point B\", position=[1, 1, 0.2], scale=0.2)\n",
    "\n",
    "plot.display()"
   ]
  },
  {
   "cell_type": "markdown",
   "id": "0a7fb7c8-5504-4901-a31f-ab76784fbdb5",
   "metadata": {},
   "source": [
    "---\n",
    "\n",
    "###  Example 6: Create a 2D Overlay for Real-Time Measurement Display\n",
    "\n",
    "This simulates a simple measurement or HUD-style interface in 3D scenes.\n",
    "\n"
   ]
  },
  {
   "cell_type": "code",
   "execution_count": 34,
   "id": "4e304fa9-7faf-4b2f-a137-af436d59d378",
   "metadata": {},
   "outputs": [
    {
     "data": {
      "application/vnd.jupyter.widget-view+json": {
       "model_id": "f903ba336322496684dc100cf39a07e7",
       "version_major": 2,
       "version_minor": 0
      },
      "text/plain": [
       "Output()"
      ]
     },
     "metadata": {},
     "output_type": "display_data"
    }
   ],
   "source": [
    "plot = k3d.plot()\n",
    "plot += k3d.text2d(\"Distance: 2.4 units\", position=[0.7, 0.9], size=1.0, color=0xffff00)\n",
    "plot += k3d.line([[0, 0, 0], [2, 0, 0]], width=0.05, color=0xff0000)\n",
    "plot.display()"
   ]
  },
  {
   "cell_type": "markdown",
   "id": "89897162-dc2a-429d-b215-9c6bbd1a0981",
   "metadata": {},
   "source": [
    "---\n",
    "\n",
    "### Example 7: Animated Labels for Moving Objects\n",
    "\n",
    "Create a dynamic system where 3D objects move, and a text label updates its position to follow one of them in real time."
   ]
  },
  {
   "cell_type": "code",
   "execution_count": 38,
   "id": "3de1cd2a-155e-4c4b-98f7-e0ed073bd392",
   "metadata": {},
   "outputs": [
    {
     "name": "stderr",
     "output_type": "stream",
     "text": [
      "C:\\Users\\arija\\anaconda3\\Lib\\site-packages\\traittypes\\traittypes.py:97: UserWarning: Given trait value dtype \"int32\" does not match required type \"float32\". A coerced copy has been created.\n",
      "  warnings.warn(\n"
     ]
    },
    {
     "data": {
      "application/vnd.jupyter.widget-view+json": {
       "model_id": "8518603ea38d4912bb1c18d3eee69c2c",
       "version_major": 2,
       "version_minor": 0
      },
      "text/plain": [
       "Output()"
      ]
     },
     "metadata": {},
     "output_type": "display_data"
    }
   ],
   "source": [
    "import k3d\n",
    "import numpy as np\n",
    "import time\n",
    "\n",
    "plot = k3d.plot()\n",
    "\n",
    "# Create a point that will move in a circular orbit\n",
    "N = 100\n",
    "theta = np.linspace(0, 2 * np.pi, N)\n",
    "orbit = np.stack((np.cos(theta), np.sin(theta), np.zeros_like(theta)), axis=1)\n",
    "\n",
    "# Initialize point and label\n",
    "point = k3d.points(positions=np.array([[1, 0, 0]]), point_size=0.2, color=0xff0000)\n",
    "label = k3d.text(\"Tracking...\", position=[1, 0.1, 0], scale=0.15, color=0xffff00)\n",
    "\n",
    "plot += point\n",
    "plot += label\n",
    "plot.display()\n",
    "\n",
    "# Animate object + label\n",
    "for i in range(N):\n",
    "    pos = orbit[i]\n",
    "    point.positions = np.array([pos], dtype=np.float32)\n",
    "    label.position = (pos + np.array([0, 0.15, 0])).tolist()\n",
    "    time.sleep(0.05)"
   ]
  },
  {
   "cell_type": "markdown",
   "id": "c467c9b7-21a5-459d-8e8c-7b168fb72605",
   "metadata": {},
   "source": [
    "---\n",
    "\n",
    "### Example 8: Simulated Material Effects with Procedural Coloring\n",
    "\n",
    "Mimic material surface variation (e.g. roughness or terrain elevation) using procedural vertex coloring based on curvature-like features."
   ]
  },
  {
   "cell_type": "code",
   "execution_count": 44,
   "id": "7c4de3e3-bce6-4d7d-a7f2-f17d394edf35",
   "metadata": {},
   "outputs": [
    {
     "data": {
      "application/vnd.jupyter.widget-view+json": {
       "model_id": "0b4e265227de49d784cb261e5d7cef91",
       "version_major": 2,
       "version_minor": 0
      },
      "text/plain": [
       "Output()"
      ]
     },
     "metadata": {},
     "output_type": "display_data"
    }
   ],
   "source": [
    "# Create a surface using radial sine wave\n",
    "x, y = np.meshgrid(np.linspace(-2, 2, 50), np.linspace(-2, 2, 50))\n",
    "r = np.sqrt(x**2 + y**2)\n",
    "z = 0.3 * np.sin(5 * r)\n",
    "\n",
    "vertices = np.stack((x.ravel(), y.ravel(), z.ravel()), axis=1)\n",
    "\n",
    "# Generate triangles\n",
    "res = x.shape[0]\n",
    "faces = []\n",
    "for i in range(res - 1):\n",
    "    for j in range(res - 1):\n",
    "        idx = i * res + j\n",
    "        faces.append([idx, idx + 1, idx + res])\n",
    "        faces.append([idx + 1, idx + res + 1, idx + res])\n",
    "faces = np.array(faces, dtype=np.uint32)\n",
    "\n",
    "# Simulate material: color based on distance from origin\n",
    "dists = np.sqrt(vertices[:, 0]**2 + vertices[:, 1]**2)\n",
    "dists_norm = (dists - dists.min()) / dists.ptp()\n",
    "colors = (dists_norm * 0xAAAAAA + 0x333333).astype(np.uint32)  # dark inner, light outer\n",
    "\n",
    "plot = k3d.plot()\n",
    "plot += k3d.mesh(vertices=vertices.astype(np.float32), indices=faces, colors=colors)\n",
    "plot.display()"
   ]
  },
  {
   "cell_type": "markdown",
   "id": "3db6d90a-833f-4e78-94b4-addb26324f70",
   "metadata": {},
   "source": [
    "---\n",
    "\n",
    "### Example 9: Create a 3D Info Visualization Dashboard\n",
    "\n",
    "Create a simple data dashboard using bars (as geometry) and text labels to represent values in 3D space."
   ]
  },
  {
   "cell_type": "code",
   "execution_count": 47,
   "id": "97c63ed1-6559-4a44-9515-3b3cc531474e",
   "metadata": {},
   "outputs": [
    {
     "data": {
      "application/vnd.jupyter.widget-view+json": {
       "model_id": "2fe3e972aec24429bd929fc07392974e",
       "version_major": 2,
       "version_minor": 0
      },
      "text/plain": [
       "Output()"
      ]
     },
     "metadata": {},
     "output_type": "display_data"
    }
   ],
   "source": [
    "plot = k3d.plot()\n",
    "\n",
    "# Simulated \"bar chart\" in 3D\n",
    "positions = np.linspace(-2, 2, 5)\n",
    "heights = np.random.uniform(0.5, 2.0, size=5)\n",
    "\n",
    "for i, (x, h) in enumerate(zip(positions, heights)):\n",
    "    # Create a vertical line as a bar\n",
    "    bar = k3d.line([[x, 0, 0], [x, 0, h]], width=0.1, color=0x00ccff)\n",
    "    label = k3d.text2d(f\"Val {i+1}: {h:.2f}\", position=[0.05, 0.9 - i * 0.07], size=1.2)\n",
    "    \n",
    "    plot += bar\n",
    "    plot += label\n",
    "\n",
    "plot.display()\n"
   ]
  },
  {
   "cell_type": "markdown",
   "id": "93ac9d22-2cfc-4a0a-a3ab-99eb5249b943",
   "metadata": {},
   "source": [
    "---\n",
    "\n",
    "# Tasks \n",
    "\n",
    "---"
   ]
  },
  {
   "cell_type": "markdown",
   "id": "0ee924fb-352d-4fe9-8fe5-a4602784669f",
   "metadata": {},
   "source": [
    "##  Task 1: Create a Text-Labeled Terrain\n",
    "\n",
    "Combine a procedurally generated terrain (e.g. sine-based) with several 3D text labels placed at key regions (e.g. peaks or valleys).\n",
    "Steps:\n",
    "- Create a mesh with z = sin(x) * cos(y).\n",
    "- Place text objects near the highest and lowest points.\n",
    "- Use color to indicate elevation.\n",
    "\n",
    "---"
   ]
  },
  {
   "cell_type": "markdown",
   "id": "e631c7fd-f614-4135-b1c2-984323ae1a11",
   "metadata": {},
   "source": [
    "## Task 2: Simulate a Control Panel Using 2D Overlays\n",
    "\n",
    "Use text2d elements to display interface elements such as coordinates, frame rate, or simulation info.\n",
    "Steps:\n",
    "- Create a 3D object (e.g. rotating cube or orbiting point).\n",
    "- Add 2D overlay text that updates or labels information.\n",
    "\n",
    "---"
   ]
  },
  {
   "cell_type": "markdown",
   "id": "6ada00d1-e172-4009-b81d-8a03db1c4af5",
   "metadata": {},
   "source": [
    "### Task 3: Procedural Color Texture on a Curved Surface\n",
    "\n",
    "Visualize a mathematical surface (e.g. paraboloid or sine wave) with a color gradient based on height.\n",
    "Steps:\n",
    "- Generate mesh and assign per-vertex color.\n",
    "- Use normalization + color encoding to simulate texture.\n",
    "- Compare with flat color.\n",
    "\n",
    "---"
   ]
  },
  {
   "cell_type": "markdown",
   "id": "b3fcc798-5f06-4474-ac66-ef3a20dbd195",
   "metadata": {},
   "source": [
    "## Task 4: Label a 3D Point Cloud or Model\n",
    "\n",
    "Load or create a point cloud and annotate selected points with 3D text.\n",
    "Steps:\n",
    "- Generate or import a 3D point set.\n",
    "- Add 3D text near selected or randomly chosen points.\n",
    "- Group related points with the same label color.\n",
    "\n",
    "---"
   ]
  },
  {
   "cell_type": "markdown",
   "id": "a8d9040a-4c2d-4ddc-ba79-a2a38f2e2827",
   "metadata": {},
   "source": [
    "## Task 5: Create a 3D Labeled Coordinate System Viewer\n",
    "\n",
    "Build a labeled 3D coordinate reference frame with axis lines and corresponding text labels for X, Y, and Z. Add arrows or points to enhance orientation.\n",
    "Steps:\n",
    "- Use k3d.line() to create three colored axes: X (red), Y (green), Z (blue)\n",
    "- Add k3d.text() labels near the end of each axis: \"X\", \"Y\", and \"Z\".\n",
    "- Place small k3d.points() or arrows on the axis ends.\n",
    "- Style everything for clarity: consistent colors, readable scales, centered origin.\n",
    "\n",
    "The outcome should be a reusable 3D coordinate reference tool that can be included in any future visualizations or used as an orientation helper. \n",
    "\n",
    "---"
   ]
  },
  {
   "cell_type": "markdown",
   "id": "611a64e3-a0a9-41e7-866a-1ff022d55aeb",
   "metadata": {},
   "source": [
    "### Task 6: Build a Scene Legend Using Floating 2D Labels\n",
    "\n",
    "Create a floating legend using multiple text2d elements in the corner of the screen, describing elements in your 3D scene (e.g., red = error, green = safe, blue = neutral).\n",
    "Steps:\n",
    "- Create 3D objects with different colors (e.g., spheres, points, bars).\n",
    "- Place text2d() labels in the top-right of the screen to describe what each color means.\n",
    "- Add a mini title (Scene Legend) in bold or larger size.\n",
    "- Use consistent formatting and positions (e.g., [0.7, 0.9], [0.7, 0.85], etc.)\n",
    "\n",
    "The outcome shpuld be an interactive 3D visualization with an integrated floating legend to help users interpret the scene intuitively — useful for dashboards, reports, or presentation visuals.\n",
    "\n",
    "---"
   ]
  }
 ],
 "metadata": {
  "kernelspec": {
   "display_name": "Python [conda env:base] *",
   "language": "python",
   "name": "conda-base-py"
  },
  "language_info": {
   "codemirror_mode": {
    "name": "ipython",
    "version": 3
   },
   "file_extension": ".py",
   "mimetype": "text/x-python",
   "name": "python",
   "nbconvert_exporter": "python",
   "pygments_lexer": "ipython3",
   "version": "3.12.7"
  }
 },
 "nbformat": 4,
 "nbformat_minor": 5
}
